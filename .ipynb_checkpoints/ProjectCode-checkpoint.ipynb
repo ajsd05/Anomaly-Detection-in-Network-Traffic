{
 "cells": [
  {
   "cell_type": "markdown",
   "id": "62bb45ba-a7db-4fd8-a046-303a173117b4",
   "metadata": {},
   "source": [
    "## Data Preprocessing"
   ]
  },
  {
   "cell_type": "code",
   "execution_count": null,
   "id": "998a1211-239b-4dc3-a054-ce6bdd615d85",
   "metadata": {},
   "outputs": [],
   "source": [
    "import pandas as pd\n",
    "\n",
    "Step 1: Define the column names (KDD dataset has 41 features + 1 label)\n",
    "column_names = [\n",
    "    \"duration\", \"protocol_type\", \"service\", \"flag\", \"src_bytes\", \"dst_bytes\", \"land\",\n",
    "    \"wrong_fragment\", \"urgent\", \"hot\", \"num_failed_logins\", \"logged_in\", \"num_compromised\",\n",
    "    \"root_shell\", \"su_attempted\", \"num_root\", \"num_file_creations\", \"num_shells\",\n",
    "    \"num_access_files\", \"num_outbound_cmds\", \"is_host_login\", \"is_guest_login\", \"count\",\n",
    "    \"srv_count\", \"serror_rate\", \"srv_serror_rate\", \"rerror_rate\", \"srv_rerror_rate\",\n",
    "    \"same_srv_rate\", \"diff_srv_rate\", \"srv_diff_host_rate\", \"dst_host_count\",\n",
    "    \"dst_host_srv_count\", \"dst_host_same_srv_rate\", \"dst_host_diff_srv_rate\",\n",
    "    \"dst_host_same_src_port_rate\", \"dst_host_srv_diff_host_rate\",\n",
    "    \"dst_host_serror_rate\", \"dst_host_srv_serror_rate\", \"dst_host_rerror_rate\",\n",
    "    \"dst_host_srv_rerror_rate\", \"label\"\n",
    "]\n",
    "\n",
    "\n",
    "\n",
    "Step 2: Load the gzipped CSV file\n",
    "df = pd.read_csv(\"kddcup.data_10_percent.gz\", header=None, names=column_names)\n",
    "print(\"Shape of the dataset:\", df.shape)\n",
    "df = df.drop_duplicates()\n",
    "\n",
    "duplicates = df.T[df.T.duplicated()].index\n",
    "df = df.drop(columns=duplicates)\n",
    "\n",
    "constant_cols = [col for col in df.columns if df[col].nunique() == 1]\n",
    "df = df.drop(columns=constant_cols)\n",
    "\n",
    "\n",
    "\n",
    "\n",
    "df['label'] = df['label'].apply(lambda x: 0 if x == 'normal.' else 1)\n",
    "\n",
    "print(\"Shape of the dataset:\", df.shape)\n",
    "\n",
    "\n",
    "pd.set_option('display.max_columns', None)  # Show all columns\n",
    "pd.set_option('display.width', 0)           # Automatically adjust to window width\n",
    "\n",
    "Now this will show everything\n",
    "df.head(10)"
   ]
  },
  {
   "cell_type": "code",
   "execution_count": null,
   "id": "fc725460-4d01-4280-9d89-36d92cb89467",
   "metadata": {},
   "outputs": [],
   "source": []
  }
 ],
 "metadata": {
  "kernelspec": {
   "display_name": "Python 3 (ipykernel)",
   "language": "python",
   "name": "python3"
  },
  "language_info": {
   "codemirror_mode": {
    "name": "ipython",
    "version": 3
   },
   "file_extension": ".py",
   "mimetype": "text/x-python",
   "name": "python",
   "nbconvert_exporter": "python",
   "pygments_lexer": "ipython3",
   "version": "3.12.7"
  }
 },
 "nbformat": 4,
 "nbformat_minor": 5
}
